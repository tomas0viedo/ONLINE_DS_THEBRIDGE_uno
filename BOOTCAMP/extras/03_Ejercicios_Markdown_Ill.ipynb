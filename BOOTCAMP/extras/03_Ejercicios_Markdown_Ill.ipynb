{
 "cells": [
  {
   "cell_type": "markdown",
   "id": "59ec229f",
   "metadata": {
    "id": "59ec229f"
   },
   "source": [
    "<img src=\"./img/TheBridge_logo_RGB_color.jpg\" width = 500>"
   ]
  },
  {
   "cell_type": "markdown",
   "id": "30a2c01b",
   "metadata": {
    "id": "30a2c01b"
   },
   "source": [
    "# EJERCICIOS MARKDOWN (I)"
   ]
  },
  {
   "cell_type": "markdown",
   "id": "e165fb0c",
   "metadata": {
    "id": "e165fb0c"
   },
   "source": [
    "Aquí tienes cinco sencillos ejercicios para practicar lo aprendido en la primera sesión de Markdown. Utiliza las celdas que hay debajo dec cada enunciado y recuerda convertirlas a Markdown primero ;-)"
   ]
  },
  {
   "cell_type": "markdown",
   "id": "5f74096f",
   "metadata": {
    "id": "5f74096f"
   },
   "source": [
    "\n",
    "\n",
    "### Ejercicio 1: Cabeceras\n",
    "Crea las siguientes cabeceras:\n",
    "\n",
    "1. Una cabecera de nivel 1 con el texto \"Ciencia de Datos\".\n",
    "2. Una cabecera de nivel 2 con el texto \"Introducción\".\n",
    "3. Una cabecera de nivel 3 con el texto \"Herramientas\"."
   ]
  },
  {
   "cell_type": "markdown",
   "id": "rrDvHrYAhg2s",
   "metadata": {
    "id": "rrDvHrYAhg2s"
   },
   "source": [
    "# Ciencia de Datos  \n",
    "## Introducción  \n",
    "### Herramientas  "
   ]
  },
  {
   "cell_type": "markdown",
   "id": "Tz7mEOQChtuD",
   "metadata": {
    "id": "Tz7mEOQChtuD",
    "jp-MarkdownHeadingCollapsed": true
   },
   "source": [
    "# Ciencia de datos\n",
    "## Introducción\n",
    "### Herramientas"
   ]
  },
  {
   "cell_type": "markdown",
   "id": "2L3KMpIK-rLZ",
   "metadata": {
    "id": "2L3KMpIK-rLZ"
   },
   "source": [
    "# Ciencia de Datos  \n",
    "## Introducción  \n",
    "### Herramientas\n"
   ]
  },
  {
   "cell_type": "markdown",
   "id": "4b636168",
   "metadata": {
    "id": "4b636168"
   },
   "source": [
    "### Ejercicio 2: Estilos de texto\n",
    "Escribe una frase que contenga las siguientes características:\n",
    "\n",
    "1. La palabra \"Markdown\" en negritas.\n",
    "2. La palabra \"Jupyter\" en cursivas.\n",
    "3. La palabra \"Python\" en negritas y cursivas."
   ]
  },
  {
   "cell_type": "markdown",
   "id": "z1oHZHg1AFw2",
   "metadata": {
    "id": "z1oHZHg1AFw2"
   },
   "source": [
    "**Markdown**  \n",
    "*Jupiter*  \n",
    "***Python en negrita y cursivas***"
   ]
  },
  {
   "cell_type": "markdown",
   "id": "6FSx3eHTh_-f",
   "metadata": {
    "id": "6FSx3eHTh_-f"
   },
   "source": [
    "**Markdown**  \n",
    "*Jupiter*  \n",
    "***Python***\n"
   ]
  },
  {
   "cell_type": "markdown",
   "id": "WC77bWSMiBJs",
   "metadata": {
    "id": "WC77bWSMiBJs"
   },
   "source": [
    "**Markdown**  \n",
    "*Jupiter*  \n",
    "***Python en negrita y cursivas***"
   ]
  },
  {
   "cell_type": "markdown",
   "id": "61fd2979",
   "metadata": {
    "id": "61fd2979"
   },
   "source": [
    "### Ejercicio 3: Resaltados y HTML\n",
    "Crea una línea que contenga:\n",
    "\n",
    "1. La palabra \"resaltado\" con un fondo amarillo usando Markdown.\n",
    "2. La palabra \"color\" en azul usando HTML.\n",
    "\n",
    "Para este ejercicio tendrás que buscar un poco más en internet, venga que tú puedes."
   ]
  },
  {
   "cell_type": "markdown",
   "id": "27ke332TiP_8",
   "metadata": {
    "id": "27ke332TiP_8"
   },
   "source": [
    "`resaltado`  \n",
    "<mark>resaltado</mark>  \n",
    "<font color=\"blue\"> color </font>"
   ]
  },
  {
   "cell_type": "markdown",
   "id": "qYUeWCWUBwdQ",
   "metadata": {
    "id": "qYUeWCWUBwdQ"
   },
   "source": [
    "==resaltado==  \n",
    "<mark>resaltado</mark>    \n",
    "<font color=\"blue\"> color </font>"
   ]
  },
  {
   "cell_type": "markdown",
   "id": "QZ9D_R3BBst_",
   "metadata": {
    "id": "QZ9D_R3BBst_"
   },
   "source": [
    "<mark>resaltado</mark>  \n",
    "<font color=\"blue\"> color </font>"
   ]
  },
  {
   "cell_type": "markdown",
   "id": "a91386ca",
   "metadata": {
    "id": "a91386ca"
   },
   "source": [
    "### Ejercicio 4: Citas\n",
    "Incluye la siguiente cita:\n",
    "\n",
    "> La Ciencia de Datos es el petróleo del siglo XXI.\n",
    "\n",
    "En uno y dos niveles de cita"
   ]
  },
  {
   "cell_type": "markdown",
   "id": "FOvZIAc-jFY5",
   "metadata": {
    "id": "FOvZIAc-jFY5"
   },
   "source": [
    ">La Ciencia de datos es el petróleo del siglo XXI\n",
    ">>La Ciencia de Datos es el petróleo del siglo XXI"
   ]
  },
  {
   "cell_type": "markdown",
   "id": "9bQxt2RASgaM",
   "metadata": {
    "id": "9bQxt2RASgaM"
   },
   "source": [
    ">La Ciencia de Datos es el petróleo del siglo XXI.  \n",
    ">>La Ciencia de Datos es el petróleo del siglo XXI."
   ]
  },
  {
   "cell_type": "markdown",
   "id": "rBXm6YJzjixS",
   "metadata": {
    "id": "rBXm6YJzjixS"
   },
   "source": [
    ">La Ciencia de Datos es el petróleo del siglo XXI.\n",
    ">>La Ciencia de Datos es el petróleo del siglo XXI."
   ]
  },
  {
   "cell_type": "markdown",
   "id": "35f0595a",
   "metadata": {
    "id": "35f0595a"
   },
   "source": [
    "### Ejercicio 5: Combinando todo\n",
    "Crea un texto que combine lo siguiente:\n",
    "\n",
    "1. Una cabecera de nivel 2 con el texto \"Curso de Markdown\".\n",
    "2. Una frase que contenga la palabra \"importante\" en negritas.\n",
    "3. Una cita que diga: \"Aprender es crecer\".\n",
    "4. La palabra \"ejemplo\" en cursivas y con un fondo verde usando HTML.\n",
    "\n",
    "Nota: Si no has sido capaz de encontrar como dar color de fondo usando HTML quizás <span style=\"background-color:yellow\">*tienes que buscar más cerca de ti*</span>\n"
   ]
  },
  {
   "cell_type": "markdown",
   "id": "wkiS1XOvjWzY",
   "metadata": {
    "id": "wkiS1XOvjWzY"
   },
   "source": [
    "## Curso de Markdown  \n",
    "Es muy **importante**  \n",
    ">Aprender es crecer    \n",
    "\n",
    "<font color=\"green\"> *ejemplo* </font>\n"
   ]
  },
  {
   "cell_type": "markdown",
   "id": "FCwBZdCxkLmA",
   "metadata": {
    "id": "FCwBZdCxkLmA"
   },
   "source": [
    "## Curso de Markdown\n",
    "**Importante**\n",
    ">Aprender es crecer     \n",
    "\n",
    "<font color=\"green\"> *ejemplo* </font>"
   ]
  },
  {
   "cell_type": "markdown",
   "id": "UHDyn53LS2qM",
   "metadata": {
    "id": "UHDyn53LS2qM"
   },
   "source": [
    "## Curso de Markdown  \n",
    "Es un lenguaje de marcado ligero muy **importante** para conseguir la máxima legibilidad y facilidad de publicación.  \n",
    ">Aprender es crecer  \n",
    "\n",
    "Este BootCamp de DataScience es un <mark>_ejemplo_</mark>\n",
    "\n",
    "\n"
   ]
  },
  {
   "cell_type": "code",
   "execution_count": null,
   "id": "5939d14a-7d6b-4ff6-985e-72773ab0c707",
   "metadata": {},
   "outputs": [],
   "source": []
  }
 ],
 "metadata": {
  "colab": {
   "provenance": []
  },
  "kernelspec": {
   "display_name": "Python 3 (ipykernel)",
   "language": "python",
   "name": "python3"
  },
  "language_info": {
   "codemirror_mode": {
    "name": "ipython",
    "version": 3
   },
   "file_extension": ".py",
   "mimetype": "text/x-python",
   "name": "python",
   "nbconvert_exporter": "python",
   "pygments_lexer": "ipython3",
   "version": "3.10.11"
  }
 },
 "nbformat": 4,
 "nbformat_minor": 5
}
